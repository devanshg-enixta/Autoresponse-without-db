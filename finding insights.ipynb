{
 "cells": [
  {
   "cell_type": "code",
   "execution_count": null,
   "metadata": {},
   "outputs": [],
   "source": [
    "import pandas as pd\n",
    "insight = pd.read_csv('responses_mars_pedigree_25th_april_2018_all_headers.txt',sep='~',quoting=csv.QUOTE_ALL,encoding='utf-8')"
   ]
  },
  {
   "cell_type": "code",
   "execution_count": null,
   "metadata": {},
   "outputs": [],
   "source": [
    "dog_breed = insight[insight.aspect.str.contains('dog-user')]\n",
    "dog_breed['aspect']=(dog_breed['aspect']).astype(str).str.replace('[','').astype(str).str.replace(']','').astype(str).str.split(',')\n",
    "dog_breed['aspect_keyword']=(dog_breed['aspect_keyword']).astype(str).str.replace('[','').astype(str).str.replace(']','').astype(str).str.split(',')\n",
    "out =[]\n",
    "f = open('Pedigree_autoresponses/fine_grained_phrases_pedigree_sentiment_sub_clusters/aspects/dog-user-breed.txt','r+')\n",
    "breed_names = [i.replace('\\n','') for i in list(f.readlines())]\n",
    "np_array = np.array(breed_names)\n",
    "for row in dog_breed.to_dict('records'):\n",
    "  #  a = list(row['aspect'])\n",
    "    #a = [x.strip(' ') for x in a]\n",
    "    #index = a.index('dog-user-breed')\n",
    "    key = list(row['aspect_keyword'])\n",
    "    key = [x.strip(' ') for x in key]\n",
    "    item_index =np.in1d(key,np_array).nonzero()[0]\n",
    "    print item_index\n",
    "    for i in range(0,len(item_index)):\n",
    "        row['dog_breed_name'] = key[item_index[i]]\n",
    "        out.append(row)\n",
    "out =pd.DataFrame(out)\n",
    "out_filter = out[out.dog_breed_name.isin(breed_names)]\n",
    "out_filter_1=[]\n",
    "for row in out_filter.to_dict(\"records\"):\n",
    "    row['dog_breed_name'] = row['dog_breed_name'].replace('gsd',\"german shepherd\").replace('cocker',\"cocker spaniel\").replace('cocker spaniel spaniel',\"cocker spaniel\").replace('shepard',\"german shepherd\").replace('shepherd',\"german shepherd\").replace('german german shepherd',\"german shepherd\").replace('german shepherds',\"german shepherd\").replace('shepherd',\"german shepherd\").replace('german german shepherd',\"german shepherd\").replace('retriver',\"retriever\").replace('bull',\"bull dog\").replace('labs',\"labrador\").replace('bull dogdog',\"bull dog\").lower()\n",
    "    out_filter_1.append(row)\n",
    "out_filter_1 = pd.DataFrame(out_filter_1)\n",
    "out_filter_1.to_csv('Breed_Wise_and_review_wise_polarity_insights.csv',sep=',',quoting=csv.QUOTE_ALL,encoding='utf-8',index=False,columns =['id','source_review_id','dog_breed_name','polarity','confidence_score'])\n",
    "\n",
    "out_t_per=[]\n",
    "breed = out_filter_1.dog_breed_name.unique()\n",
    "for c in breed:\n",
    "    comp_rev = out_filter_1[out_filter_1.dog_breed_name == c]\n",
    "    date_df = comp_rev [comp_rev.polarity == 'positive']\n",
    "    row = [c,date_df.shape[0],comp_rev.shape[0],float(date_df.shape[0]/float(comp_rev.shape[0]))*100,float((comp_rev.shape[0]-date_df.shape[0])/float(comp_rev.shape[0]))*100]\n",
    "    out_t_per.append(row)\n",
    "out_t_per=pd.DataFrame(out_t_per)\n",
    "out_t_per.columns=['Breed Name','Positive review count','Total count','Positive percentage','Negative percentage']\n",
    "out_t_per.to_csv('Breed_Wise_polarity_insights.csv',sep=',',quoting=csv.QUOTE_ALL,encoding='utf-8',index=False)\n",
    "out1=[]\n",
    "for row in df.to_dict('records'):\n",
    "    key = list(row['aspect'])\n",
    "    key = [x.strip(' ') for x in key]\n",
    "    for i in range(0,len(key)):\n",
    "        print key[i]\n",
    "        if key[i] != 'dont_reply':\n",
    "            row1 = [row['id'],row['source_review_id'],key[i],row['polarity']]\n",
    "            out1.append(row1)\n",
    "out1=pd.DataFrame(out1)\n",
    "out1.columns= ['id','source_review_id','aspect_id','polarity']\n",
    "out1.to_csv('aspect_id_map.csv',sep=',',quoting=csv.QUOTE_ALL,encoding='utf-8',index=False)\n"
   ]
  }
 ],
 "metadata": {
  "kernelspec": {
   "display_name": "Python 2",
   "language": "python",
   "name": "python2"
  },
  "language_info": {
   "codemirror_mode": {
    "name": "ipython",
    "version": 2
   },
   "file_extension": ".py",
   "mimetype": "text/x-python",
   "name": "python",
   "nbconvert_exporter": "python",
   "pygments_lexer": "ipython2",
   "version": "2.7.10"
  }
 },
 "nbformat": 4,
 "nbformat_minor": 2
}
